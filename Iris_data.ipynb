{
  "nbformat": 4,
  "nbformat_minor": 0,
  "metadata": {
    "colab": {
      "name": "Iris_data.ipynb",
      "provenance": [],
      "authorship_tag": "ABX9TyNivtK7hqmlrdv7qFULFJi6",
      "include_colab_link": true
    },
    "kernelspec": {
      "name": "python3",
      "display_name": "Python 3"
    },
    "language_info": {
      "name": "python"
    }
  },
  "cells": [
    {
      "cell_type": "markdown",
      "metadata": {
        "id": "view-in-github",
        "colab_type": "text"
      },
      "source": [
        "<a href=\"https://colab.research.google.com/github/n-donik/LinearRegression/blob/main/Iris_data.ipynb\" target=\"_parent\"><img src=\"https://colab.research.google.com/assets/colab-badge.svg\" alt=\"Open In Colab\"/></a>"
      ]
    },
    {
      "cell_type": "markdown",
      "metadata": {
        "id": "mjk_PO-6TNve"
      },
      "source": [
        "Linear regression - Iris data set"
      ]
    },
    {
      "cell_type": "code",
      "metadata": {
        "id": "tW0EkwHtSx19"
      },
      "source": [
        "from sklearn import linear_model\n",
        "from sklearn.datasets import load_iris\n",
        "import pandas as pd"
      ],
      "execution_count": 2,
      "outputs": []
    },
    {
      "cell_type": "code",
      "metadata": {
        "id": "lKjj1HL6Tlhh"
      },
      "source": [
        "# Load Iris data set, X has inputs and y has output\n",
        "data = load_iris()\n",
        "X = data.data\n",
        "y = data.target"
      ],
      "execution_count": 11,
      "outputs": []
    },
    {
      "cell_type": "code",
      "metadata": {
        "colab": {
          "base_uri": "https://localhost:8080/"
        },
        "id": "hd38hIhxVj9i",
        "outputId": "77e8201d-0d2c-4dda-8227-d37cddebff64"
      },
      "source": [
        "X.shape,y.shape"
      ],
      "execution_count": 12,
      "outputs": [
        {
          "output_type": "execute_result",
          "data": {
            "text/plain": [
              "((150, 4), (150,))"
            ]
          },
          "metadata": {},
          "execution_count": 12
        }
      ]
    },
    {
      "cell_type": "code",
      "metadata": {
        "id": "FyRqR3TFVt0m"
      },
      "source": [
        "from sklearn.model_selection import train_test_split\n",
        "# Split the data for training\n",
        "\n",
        "X_train, X_test,y_train,y_test = train_test_split(X,y,test_size=0.2)"
      ],
      "execution_count": 13,
      "outputs": []
    },
    {
      "cell_type": "code",
      "metadata": {
        "colab": {
          "base_uri": "https://localhost:8080/"
        },
        "id": "rnkkw6qvWBtf",
        "outputId": "2e0d3377-1c9d-428a-c8ca-2c6daf3b68cc"
      },
      "source": [
        "X_train.shape,X_test.shape,y_train.shape,y_test.shape"
      ],
      "execution_count": 14,
      "outputs": [
        {
          "output_type": "execute_result",
          "data": {
            "text/plain": [
              "((120, 4), (30, 4), (120,), (30,))"
            ]
          },
          "metadata": {},
          "execution_count": 14
        }
      ]
    },
    {
      "cell_type": "code",
      "metadata": {
        "id": "ykR38o4cWJ6o"
      },
      "source": [
        "linear_classifier = linear_model.SGDClassifier()\n",
        "\n",
        "# Training the model\n",
        "linear_classifier.fit(X_train,y_train)\n",
        "\n",
        "# Testing the trained model\n",
        "y_pred = linear_classifier.predict(X_test)"
      ],
      "execution_count": 16,
      "outputs": []
    },
    {
      "cell_type": "code",
      "metadata": {
        "colab": {
          "base_uri": "https://localhost:8080/"
        },
        "id": "ecRDodbRWsPn",
        "outputId": "9864be85-658d-495c-e2a6-c33c17bee68a"
      },
      "source": [
        "# Check the accuracy\n",
        "\n",
        "from sklearn.metrics import accuracy_score\n",
        "accuracy_score(y_test,y_pred)"
      ],
      "execution_count": 17,
      "outputs": [
        {
          "output_type": "execute_result",
          "data": {
            "text/plain": [
              "0.9666666666666667"
            ]
          },
          "metadata": {},
          "execution_count": 17
        }
      ]
    },
    {
      "cell_type": "code",
      "metadata": {
        "colab": {
          "base_uri": "https://localhost:8080/"
        },
        "id": "u5C4lQHlW7R2",
        "outputId": "0e643244-4382-4aca-de7a-ebc6f55099a8"
      },
      "source": [
        "# Confusion matrix\n",
        "from sklearn.metrics import confusion_matrix\n",
        "result = confusion_matrix(y_test,y_pred)\n",
        "result"
      ],
      "execution_count": 18,
      "outputs": [
        {
          "output_type": "execute_result",
          "data": {
            "text/plain": [
              "array([[ 8,  0,  0],\n",
              "       [ 0,  9,  0],\n",
              "       [ 0,  1, 12]])"
            ]
          },
          "metadata": {},
          "execution_count": 18
        }
      ]
    }
  ]
}